{
 "cells": [
  {
   "cell_type": "markdown",
   "metadata": {},
   "source": [
    "# Air Quality Dashboard Walkthrough #2\n",
    "\n",
    "This series of walkthroughs will cover the basics of how the Open Air Chicago Dashboard works with the following topics being covered: Data, Working with the Variable Pages, Front-end, and Back-end *Link to other tutorials when finished*. This walkthrough will focus on the Variable Pages."
   ]
  },
  {
   "cell_type": "markdown",
   "metadata": {},
   "source": [
    "# Requirements\n",
    "This walkthrough assumes that you are working with the dashboard and all required files organized as it is presented on the Github Repository ('App.R', 'DashFunctions.R', and 'Data' folder containing the following: 'CDPH_Permits' 'Chicago' 'county_averages_monthly.csv' 'county_averages_quarterly.csv' 'Description.csv' 'EPA_Points' 'CDPH_Permits' 'LargeAreaCounties' 'Master_Raster.tif' 'Master_Raster_Names.csv' 'Master_Raster.tif.aux.xml')"
   ]
  },
  {
   "cell_type": "markdown",
   "metadata": {},
   "source": [
    "Due to incompatibility between Jupyter Notebook and R Shiny, this will focus more on the data and the processes behind the dashboard than the R Shiny Application itself."
   ]
  },
  {
   "cell_type": "markdown",
   "metadata": {},
   "source": [
    "# Variable Pages"
   ]
  },
  {
   "cell_type": "markdown",
   "metadata": {},
   "source": [
    "## Introduction\n",
    "The Open Air Chicago Dashboard is made up of a home page, about page, downloads page, and pages for each of the 16 variables. These variable pages will be the focus of this walkthrough. There are two different templates of variable pages used -- one for those with no temporal element and one for those with quarterly aggregates. First, we will look at how to work with the variables pages for those variables without a temporal element."
   ]
  },
  {
   "cell_type": "markdown",
   "metadata": {},
   "source": [
    "### One-Time Variable Pages"
   ]
  },
  {
   "cell_type": "markdown",
   "metadata": {},
   "source": [
    "Explain generation function, what it does, and what it needs (Embedding images on Jupyter Noteboook) "
   ]
  },
  {
   "cell_type": "code",
   "execution_count": null,
   "metadata": {},
   "outputs": [],
   "source": [
    "generateOneTimeTab(elevation.tabname, elevation.name, elevation.description, elevation.source)"
   ]
  },
  {
   "cell_type": "markdown",
   "metadata": {},
   "source": [
    "### Quarterly Variable Pages"
   ]
  },
  {
   "cell_type": "markdown",
   "metadata": {},
   "source": []
  },
  {
   "cell_type": "code",
   "execution_count": null,
   "metadata": {},
   "outputs": [],
   "source": []
  }
 ],
 "metadata": {
  "kernelspec": {
   "display_name": "R",
   "language": "R",
   "name": "ir"
  },
  "language_info": {
   "codemirror_mode": "r",
   "file_extension": ".r",
   "mimetype": "text/x-r-source",
   "name": "R",
   "pygments_lexer": "r",
   "version": "3.6.1"
  }
 },
 "nbformat": 4,
 "nbformat_minor": 2
}
